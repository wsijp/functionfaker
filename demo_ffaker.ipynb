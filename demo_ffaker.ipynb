{
 "cells": [
  {
   "cell_type": "code",
   "execution_count": 1,
   "metadata": {
    "scrolled": true
   },
   "outputs": [],
   "source": [
    "from functionfaker import response_player, store\n",
    "import os\n",
    "import requests\n",
    "import json"
   ]
  },
  {
   "cell_type": "code",
   "execution_count": 2,
   "metadata": {},
   "outputs": [],
   "source": [
    "@response_player()\n",
    "def add(x, y):\n",
    "    return x + y\n",
    "\n",
    "@response_player()\n",
    "def get_geonames(url, params):\n",
    "\n",
    "    response = requests.get(url, params = params)\n",
    "    return json.loads(response.content.decode(\"utf-8\"))"
   ]
  },
  {
   "cell_type": "code",
   "execution_count": 3,
   "metadata": {},
   "outputs": [],
   "source": [
    "# enter record mode, to record function responses.\n",
    "os.environ['RECORD'] = \"record\""
   ]
  },
  {
   "cell_type": "code",
   "execution_count": 4,
   "metadata": {},
   "outputs": [
    {
     "name": "stdout",
     "output_type": "stream",
     "text": [
      "Recording response function \"add\"\n",
      "Recording response function \"add\"\n",
      "Recording response function \"add\"\n",
      "Recording response function \"add\"\n"
     ]
    },
    {
     "data": {
      "text/plain": [
       "3"
      ]
     },
     "execution_count": 4,
     "metadata": {},
     "output_type": "execute_result"
    }
   ],
   "source": [
    "# Clear previous responses\n",
    "store.clear()\n",
    "# call the add function to record some responses.\n",
    "add(1,2)\n",
    "add(1,y=3)\n",
    "add(1,3)\n",
    "add(2,1)"
   ]
  },
  {
   "cell_type": "code",
   "execution_count": 5,
   "metadata": {},
   "outputs": [
    {
     "name": "stdout",
     "output_type": "stream",
     "text": [
      "{66533289: 3, 198787524: 4, 662005407: 4, 177323789: 3}\n"
     ]
    }
   ],
   "source": [
    "# The responses are stored against keys generated from the function inputs\n",
    "import pickle\n",
    "with open('responses.p', \"rb\") as f:\n",
    "    responses = pickle.load(f)\n",
    "print(responses)"
   ]
  },
  {
   "cell_type": "code",
   "execution_count": 6,
   "metadata": {
    "scrolled": true
   },
   "outputs": [
    {
     "name": "stdout",
     "output_type": "stream",
     "text": [
      "Recording response function \"get_geonames\"\n"
     ]
    }
   ],
   "source": [
    "# call the geonames API for Wagga Wagga to record a response.\n",
    "parameters = {\"username\" : \"willem.sijp\" , \"type\" : \"json\", \"placename\" : \"wagga\", \"countrycode\" : \"au\"}\n",
    "url = 'http://api.geonames.org/postalCodeSearch'\n",
    "response = get_geonames(url, parameters)"
   ]
  },
  {
   "cell_type": "code",
   "execution_count": 7,
   "metadata": {},
   "outputs": [],
   "source": [
    "# enter replay mode, so that function will not run, but return stored values instead.\n",
    "os.environ['RECORD'] = \"replay\""
   ]
  },
  {
   "cell_type": "code",
   "execution_count": 8,
   "metadata": {
    "scrolled": true
   },
   "outputs": [
    {
     "name": "stdout",
     "output_type": "stream",
     "text": [
      "Faking function \"add\". Response found\n",
      "The saved result of adding 1 and 2 using function 'add' is 3\n"
     ]
    }
   ],
   "source": [
    "result = add(1,2)\n",
    "print(\"The saved result of adding 1 and 2 using function 'add' is %d\"%result)"
   ]
  },
  {
   "cell_type": "code",
   "execution_count": 9,
   "metadata": {},
   "outputs": [
    {
     "name": "stdout",
     "output_type": "stream",
     "text": [
      "Faking function \"get_geonames\". Response found\n"
     ]
    }
   ],
   "source": [
    "response = get_geonames(url, parameters)"
   ]
  },
  {
   "cell_type": "code",
   "execution_count": 10,
   "metadata": {},
   "outputs": [
    {
     "name": "stdout",
     "output_type": "stream",
     "text": [
      "The saved API response:\n",
      "{'postalCodes': [{'adminCode1': 'NSW', 'lng': 147.39429598330452, 'countryCode': 'AU', 'postalCode': '2650', 'adminName1': 'New South Wales', 'ISO3166-2': 'NSW', 'placeName': 'East Wagga Wagga', 'lat': -35.124050236017254}, {'adminCode1': 'NSW', 'lng': 147.38222273066253, 'countryCode': 'AU', 'postalCode': '2650', 'adminName1': 'New South Wales', 'ISO3166-2': 'NSW', 'placeName': 'North Wagga Wagga', 'lat': -35.09469785836437}, {'adminCode1': 'NSW', 'adminName2': 'CANBERRA', 'lng': 147.36351825912908, 'countryCode': 'AU', 'postalCode': '2650', 'adminName1': 'New South Wales', 'ISO3166-2': 'NSW', 'placeName': 'Wagga Wagga', 'lat': -35.11127495865237}, {'adminCode1': 'NSW', 'lng': 147.37047997200247, 'countryCode': 'AU', 'postalCode': '2650', 'adminName1': 'New South Wales', 'ISO3166-2': 'NSW', 'placeName': 'Wagga Wagga BC', 'lat': -35.152962390980555}, {'adminCode1': 'NSW', 'adminName2': 'CANBERRA', 'lng': 147.410250869, 'countryCode': 'AU', 'postalCode': '2650', 'adminName1': 'New South Wales', 'ISO3166-2': 'NSW', 'placeName': 'Wagga Wagga South', 'lat': -35.1127443894}, {'adminCode1': 'NSW', 'adminName2': 'CANBERRA', 'lng': 147.466213304, 'countryCode': 'AU', 'postalCode': '2651', 'adminName1': 'New South Wales', 'ISO3166-2': 'NSW', 'placeName': 'Wagga Wagga Raaf', 'lat': -35.1587840749}]}\n"
     ]
    }
   ],
   "source": [
    "print(\"The saved API response:\")\n",
    "print(response)"
   ]
  },
  {
   "cell_type": "code",
   "execution_count": null,
   "metadata": {},
   "outputs": [],
   "source": []
  }
 ],
 "metadata": {
  "kernelspec": {
   "display_name": "Python 3",
   "language": "python",
   "name": "python3"
  },
  "language_info": {
   "codemirror_mode": {
    "name": "ipython",
    "version": 3
   },
   "file_extension": ".py",
   "mimetype": "text/x-python",
   "name": "python",
   "nbconvert_exporter": "python",
   "pygments_lexer": "ipython3",
   "version": "3.6.2"
  }
 },
 "nbformat": 4,
 "nbformat_minor": 2
}
